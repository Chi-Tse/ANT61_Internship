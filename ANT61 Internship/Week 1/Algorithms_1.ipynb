{
 "cells": [
  {
   "cell_type": "code",
   "execution_count": null,
   "metadata": {},
   "outputs": [],
   "source": [
    "#constant time max() implementation through the use of a secondary list that only gets updated when a new maximum is added to list\n",
    "\n",
    "class stack():\n",
    "    def __init__(self):\n",
    "        self.stack_list = []\n",
    "        self.max_stack = []\n",
    "\n",
    "    def push(self, input: int):\n",
    "        self.stack_list.append(input)\n",
    "        if not self.max_stack:\n",
    "            self.max_stack.append(input)\n",
    "        elif input >= self.max_stack[-1]:\n",
    "            self.max_stack.append(input)\n",
    "\n",
    "    def pop(self):\n",
    "        if self.max_stack and self.stack_list[-1] == self.max_stack[-1]:\n",
    "            self.max_stack = self.max_stack[:-1]\n",
    "        self.stack_list = self.stack_list[:-1]\n",
    "\n",
    "    def max(self) -> int:\n",
    "        return self.max_stack[-1]"
   ]
  },
  {
   "cell_type": "code",
   "execution_count": null,
   "metadata": {},
   "outputs": [],
   "source": [
    "new_stack = stack()\n",
    "new_stack.push(4)\n",
    "new_stack.push(3)\n",
    "new_stack.push(2)\n",
    "new_stack.push(6)\n",
    "print(new_stack.max_stack)\n",
    "print(new_stack.stack_list)"
   ]
  },
  {
   "cell_type": "code",
   "execution_count": null,
   "metadata": {},
   "outputs": [],
   "source": [
    "new_stack.max()"
   ]
  },
  {
   "cell_type": "code",
   "execution_count": null,
   "metadata": {},
   "outputs": [],
   "source": [
    "new_stack.pop()\n",
    "print(new_stack.stack_list)\n",
    "print(new_stack.max_stack)"
   ]
  },
  {
   "cell_type": "code",
   "execution_count": null,
   "metadata": {},
   "outputs": [],
   "source": [
    "new_stack.max()"
   ]
  }
 ],
 "metadata": {
  "interpreter": {
   "hash": "9a92ebb1a32b68af07ba4ae21d89671d5ef172113d2414e62053b015791ee503"
  },
  "kernelspec": {
   "display_name": "Python 3.9.1 64-bit",
   "language": "python",
   "name": "python3"
  },
  "language_info": {
   "codemirror_mode": {
    "name": "ipython",
    "version": 3
   },
   "file_extension": ".py",
   "mimetype": "text/x-python",
   "name": "python",
   "nbconvert_exporter": "python",
   "pygments_lexer": "ipython3",
   "version": "3.9.1"
  },
  "orig_nbformat": 4
 },
 "nbformat": 4,
 "nbformat_minor": 2
}
