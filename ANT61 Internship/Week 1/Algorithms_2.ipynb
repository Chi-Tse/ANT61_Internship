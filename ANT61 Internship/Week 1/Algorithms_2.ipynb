{
 "cells": [
  {
   "cell_type": "code",
   "execution_count": 45,
   "metadata": {},
   "outputs": [],
   "source": [
    "#only works assuming the only characters in string are brackets\n",
    "\n",
    "def is_balanced(sequence: str) -> bool:  \n",
    "    open_bracket_list = '' \n",
    "\n",
    "    for char in sequence:\n",
    "        if char == '(' or char == '[' or char == '{':\n",
    "            open_bracket_list += char\n",
    "            continue\n",
    "\n",
    "        if char == ')' and open_bracket_list[-1] == '(':\n",
    "            open_bracket_list = open_bracket_list[:-1]\n",
    "            continue\n",
    "        elif char == ']' and open_bracket_list[-1] == '[':\n",
    "            open_bracket_list = open_bracket_list[:-1]\n",
    "            continue\n",
    "        elif char == '}' and open_bracket_list[-1] == '{':\n",
    "            open_bracket_list = open_bracket_list[:-1]\n",
    "            continue\n",
    "        else:\n",
    "            return False\n",
    "    if open_bracket_list:\n",
    "        return False\n",
    "    \n",
    "    return True"
   ]
  },
  {
   "cell_type": "code",
   "execution_count": 51,
   "metadata": {},
   "outputs": [
    {
     "data": {
      "text/plain": [
       "False"
      ]
     },
     "execution_count": 51,
     "metadata": {},
     "output_type": "execute_result"
    }
   ],
   "source": [
    "is_balanced('((()))')"
   ]
  }
 ],
 "metadata": {
  "interpreter": {
   "hash": "9a92ebb1a32b68af07ba4ae21d89671d5ef172113d2414e62053b015791ee503"
  },
  "kernelspec": {
   "display_name": "Python 3.9.1 64-bit",
   "language": "python",
   "name": "python3"
  },
  "language_info": {
   "codemirror_mode": {
    "name": "ipython",
    "version": 3
   },
   "file_extension": ".py",
   "mimetype": "text/x-python",
   "name": "python",
   "nbconvert_exporter": "python",
   "pygments_lexer": "ipython3",
   "version": "3.9.1"
  },
  "orig_nbformat": 4
 },
 "nbformat": 4,
 "nbformat_minor": 2
}
