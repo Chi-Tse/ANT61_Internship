{
 "cells": [
  {
   "cell_type": "code",
   "execution_count": 33,
   "metadata": {},
   "outputs": [],
   "source": [
    "import numpy as np\n",
    "def swap_rows(mat):\n",
    "    for i in mat.size, 2:\n",
    "        print(i)\n",
    "        #mat[[i,i+1]] = mat[[i+1,i]]"
   ]
  },
  {
   "cell_type": "code",
   "execution_count": 30,
   "metadata": {},
   "outputs": [
    {
     "name": "stdout",
     "output_type": "stream",
     "text": [
      "[[1 2]\n",
      " [3 4]\n",
      " [5 6]]\n"
     ]
    }
   ],
   "source": [
    "mat = np.array([[1, 2], [3, 4], [5, 6]])\n",
    "\n",
    "\n",
    "print(mat)"
   ]
  },
  {
   "cell_type": "code",
   "execution_count": 34,
   "metadata": {},
   "outputs": [
    {
     "ename": "TypeError",
     "evalue": "'int' object is not iterable",
     "output_type": "error",
     "traceback": [
      "\u001b[1;31m---------------------------------------------------------------------------\u001b[0m",
      "\u001b[1;31mTypeError\u001b[0m                                 Traceback (most recent call last)",
      "\u001b[1;32mc:\\Users\\ETCH\\Desktop\\Github\\ANT61 Internship\\Week 1\\Matrices_1.ipynb Cell 3'\u001b[0m in \u001b[0;36m<cell line: 1>\u001b[1;34m()\u001b[0m\n\u001b[1;32m----> <a href='vscode-notebook-cell:/c%3A/Users/ETCH/Desktop/Github/ANT61%20Internship/Week%201/Matrices_1.ipynb#ch0000005?line=0'>1</a>\u001b[0m swap_rows(mat)\n",
      "\u001b[1;32mc:\\Users\\ETCH\\Desktop\\Github\\ANT61 Internship\\Week 1\\Matrices_1.ipynb Cell 1'\u001b[0m in \u001b[0;36mswap_rows\u001b[1;34m(mat)\u001b[0m\n\u001b[0;32m      <a href='vscode-notebook-cell:/c%3A/Users/ETCH/Desktop/Github/ANT61%20Internship/Week%201/Matrices_1.ipynb#ch0000004?line=1'>2</a>\u001b[0m \u001b[39mdef\u001b[39;00m \u001b[39mswap_rows\u001b[39m(mat):\n\u001b[1;32m----> <a href='vscode-notebook-cell:/c%3A/Users/ETCH/Desktop/Github/ANT61%20Internship/Week%201/Matrices_1.ipynb#ch0000004?line=2'>3</a>\u001b[0m     \u001b[39mfor\u001b[39;00m i \u001b[39min\u001b[39;00m mat\u001b[39m.\u001b[39msize:\n\u001b[0;32m      <a href='vscode-notebook-cell:/c%3A/Users/ETCH/Desktop/Github/ANT61%20Internship/Week%201/Matrices_1.ipynb#ch0000004?line=3'>4</a>\u001b[0m         \u001b[39mprint\u001b[39m(i)\n",
      "\u001b[1;31mTypeError\u001b[0m: 'int' object is not iterable"
     ]
    }
   ],
   "source": [
    "swap_rows(mat)"
   ]
  },
  {
   "cell_type": "code",
   "execution_count": 35,
   "metadata": {},
   "outputs": [
    {
     "name": "stdout",
     "output_type": "stream",
     "text": [
      "6\n"
     ]
    }
   ],
   "source": [
    "print(mat.)"
   ]
  }
 ],
 "metadata": {
  "interpreter": {
   "hash": "9a92ebb1a32b68af07ba4ae21d89671d5ef172113d2414e62053b015791ee503"
  },
  "kernelspec": {
   "display_name": "Python 3.9.1 64-bit",
   "language": "python",
   "name": "python3"
  },
  "language_info": {
   "codemirror_mode": {
    "name": "ipython",
    "version": 3
   },
   "file_extension": ".py",
   "mimetype": "text/x-python",
   "name": "python",
   "nbconvert_exporter": "python",
   "pygments_lexer": "ipython3",
   "version": "3.9.1"
  },
  "orig_nbformat": 4
 },
 "nbformat": 4,
 "nbformat_minor": 2
}
