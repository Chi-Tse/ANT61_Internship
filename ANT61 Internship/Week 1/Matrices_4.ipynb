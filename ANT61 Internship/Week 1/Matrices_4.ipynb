{
 "cells": [
  {
   "cell_type": "code",
   "execution_count": 4,
   "metadata": {},
   "outputs": [],
   "source": [
    "import numpy as np\n",
    "\n",
    "def column_with_max_median(mat: np.ndarray) -> int:\n",
    "    column_median_array = np.median(mat, axis=0)\n",
    "    max_median = np.max(column_median_array)\n",
    "    column = np.where(column_median_array==max_median)\n",
    "    return column[0][0]"
   ]
  },
  {
   "cell_type": "code",
   "execution_count": 7,
   "metadata": {},
   "outputs": [
    {
     "name": "stdout",
     "output_type": "stream",
     "text": [
      "6.0\n"
     ]
    },
    {
     "data": {
      "text/plain": [
       "2"
      ]
     },
     "execution_count": 7,
     "metadata": {},
     "output_type": "execute_result"
    }
   ],
   "source": [
    "mat = np.array([[1,2,3], [4,5,6], [7,8,9]])\n",
    "column_with_max_median(mat)"
   ]
  }
 ],
 "metadata": {
  "interpreter": {
   "hash": "9a92ebb1a32b68af07ba4ae21d89671d5ef172113d2414e62053b015791ee503"
  },
  "kernelspec": {
   "display_name": "Python 3.9.1 64-bit",
   "language": "python",
   "name": "python3"
  },
  "language_info": {
   "codemirror_mode": {
    "name": "ipython",
    "version": 3
   },
   "file_extension": ".py",
   "mimetype": "text/x-python",
   "name": "python",
   "nbconvert_exporter": "python",
   "pygments_lexer": "ipython3",
   "version": "3.9.1"
  },
  "orig_nbformat": 4
 },
 "nbformat": 4,
 "nbformat_minor": 2
}
