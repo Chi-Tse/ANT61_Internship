{
 "cells": [
  {
   "cell_type": "code",
   "execution_count": 275,
   "metadata": {},
   "outputs": [],
   "source": [
    "import numpy as np\n",
    "\n",
    "def find_submatrix(big_mat: np.ndarray, small_mat: np.ndarray)-> tuple[list, list]:\n",
    "    \n",
    "    #search algorithm only support 2D small matrix\n",
    "    if (small_mat.ndim > big_mat.ndim) or (small_mat.ndim != 2):\n",
    "        return tuple()\n",
    "\n",
    "    size = small_mat.shape\n",
    "    #find instances where corner of small matrix exists in large matrix\n",
    "    candidates = np.where(big_mat==small_mat[0][0])\n",
    "    #reorganise array such that each element contains coordinates for 1 point\n",
    "    candidates = np.transpose(candidates)\n",
    "    #print(candidates, len(candidates))\n",
    "    \n",
    "    location_list = []\n",
    "    nslice_list = []\n",
    "    #for each candidate coordinate\n",
    "    for i in range(len(candidates)):\n",
    "        #create slice objects for each dimension\n",
    "        nslice = []\n",
    "        for j in range(len(candidates[i])-2):\n",
    "            nslice.append(slice(candidates[i][j], candidates[i][j]+1))\n",
    "        nslice.append(slice(candidates[i][-2], candidates[i][-2]+size[-2]))\n",
    "        nslice.append(slice(candidates[i][-1], candidates[i][-1]+size[-1]))\n",
    "        #print(nslice)\n",
    "\n",
    "        #slice large matrix at candidate coordinates to obtain same size sub matrix as small matrix to compare using np.all()\n",
    "        test_mat = big_mat[tuple(nslice)]\n",
    "        #print(test_mat)\n",
    "        if (np.all(test_mat==small_mat)):\n",
    "            location_list.append(candidates[i])\n",
    "            nslice_list.append(nslice)  \n",
    "    return  location_list, nslice_list"
   ]
  },
  {
   "cell_type": "code",
   "execution_count": 276,
   "metadata": {},
   "outputs": [],
   "source": [
    "def rotate_sq(mat: np.ndarray) -> np.ndarray:\n",
    "    #90° clockwise rotation of square matrix: flipped about middle horizontal axis, followed by transpose\n",
    "    for i in range(mat.shape[0]//2):\n",
    "        mat[[i, mat.shape[0]-1-i]] = mat[[mat.shape[0]-1-i, i]]\n",
    "    mat = mat.transpose()\n",
    "    return mat"
   ]
  },
  {
   "cell_type": "code",
   "execution_count": 277,
   "metadata": {},
   "outputs": [],
   "source": [
    "def rot_submatrix(big_mat: np.ndarray, small_mat: np.ndarray, increment: int):\n",
    "    #check small matrix is correct size and shape\n",
    "    if small_mat.ndim != 2:\n",
    "        return\n",
    "    elif (small_mat.shape[0] != small_mat.shape[1]):\n",
    "        return\n",
    "\n",
    "    nslice = find_submatrix(big_mat, small_mat)[1]\n",
    "    if nslice:\n",
    "        #nsmall_mat = np.array([[-2,2],[3,-1]])\n",
    "        print(small_mat)\n",
    "        rot_small_mat = rotate_sq(small_mat)\n",
    "        #for now implementation to replace just 1 area of big matrix, but can be easily extended by looping through all nslice\n",
    "        print(big_mat)\n",
    "        big_mat[nslice[0]]=rot_small_mat\n",
    "        print(big_mat)"
   ]
  },
  {
   "cell_type": "code",
   "execution_count": 280,
   "metadata": {},
   "outputs": [
    {
     "name": "stderr",
     "output_type": "stream",
     "text": [
      "C:\\Users\\ETCH\\AppData\\Local\\Temp\\ipykernel_2772\\405560888.py:31: DeprecationWarning: elementwise comparison failed; this will raise an error in the future.\n",
      "  if (np.all(test_mat==small_mat)):\n"
     ]
    }
   ],
   "source": [
    "big_mat = np.array([[[5,2,5,0], [4,5,6,0], [7,8,9,0]], [[0,0,0,0], [1,5,6,0], [1,8,9,5]]])\n",
    "small_mat = np.array([[5,6], [8,9]])\n",
    "#small_mat = np.array([[5,6,4,9], [8,9,3,2],[1,2,3,4], [6,6,6,6]])\n",
    "\n",
    "increment = 1\n",
    "rot_submatrix(big_mat, small_mat, increment)"
   ]
  },
  {
   "cell_type": "code",
   "execution_count": 279,
   "metadata": {},
   "outputs": [
    {
     "name": "stdout",
     "output_type": "stream",
     "text": [
      "[array([0, 1, 1, 1], dtype=int64), array([1, 1, 1, 1], dtype=int64)]\n"
     ]
    }
   ],
   "source": [
    "#searching in 4D matrix test\n",
    "test = np.array([[[[1,2,3,4], \n",
    "                    [5,6,7,8], \n",
    "                    [9,10,11,12]], \n",
    "\n",
    "                    [[0,0,0,0], \n",
    "                    [1,5,6,0], \n",
    "                    [1,8,9,1]]],\n",
    "                    \n",
    "                    [[[2,2,3,4], \n",
    "                    [5,6,7,8], \n",
    "                    [9,10,11,12]], \n",
    "\n",
    "                    [[0,0,0,0], \n",
    "                    [1,5,6,0], \n",
    "                    [1,8,9,1]]]])\n",
    "            \n",
    "small_mat = np.array([[5,6], [8,9]])\n",
    "print(find_submatrix(test, small_mat)[0])\n"
   ]
  }
 ],
 "metadata": {
  "interpreter": {
   "hash": "9a92ebb1a32b68af07ba4ae21d89671d5ef172113d2414e62053b015791ee503"
  },
  "kernelspec": {
   "display_name": "Python 3.9.1 64-bit",
   "language": "python",
   "name": "python3"
  },
  "language_info": {
   "codemirror_mode": {
    "name": "ipython",
    "version": 3
   },
   "file_extension": ".py",
   "mimetype": "text/x-python",
   "name": "python",
   "nbconvert_exporter": "python",
   "pygments_lexer": "ipython3",
   "version": "3.9.1"
  },
  "orig_nbformat": 4
 },
 "nbformat": 4,
 "nbformat_minor": 2
}
