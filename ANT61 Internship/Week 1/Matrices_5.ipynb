{
 "cells": [
  {
   "cell_type": "code",
   "execution_count": 14,
   "metadata": {},
   "outputs": [],
   "source": [
    "import numpy as np\n",
    "\n",
    "def find_submatrix(big_mat: np.ndarray, small_mat: np.ndarray)->np.ndarray:\n",
    "    \n",
    "    if small_mat.ndim > big_mat.ndim:\n",
    "        return np.empty\n",
    "    \n",
    "    #find instances where corner of small matrix exists in large matrix\n",
    "    candidates = np.where(big_mat==small_mat[0][0])\n",
    "    #reorganise array such that each element contains coordinates for 1 point\n",
    "    candidates = np.transpose(candidates)\n",
    "    print(candidates, len(candidates))\n",
    "\n",
    "    size = small_mat.shape\n",
    "    print(size)\n",
    "    #prepare a list to contain n-dimensional slices for a candidate\n",
    "    dim = [None]*len(candidates[0])\n",
    "    print(dim)\n",
    "\n",
    "    location_list = []\n",
    "    #for each candidate coordinate\n",
    "    for i in range(len(candidates)):\n",
    "        #for each dimension\n",
    "        for j in range(len(dim)):\n",
    "            dim[j] = slice(candidates[i][j], candidates[i][j]+size[j])\n",
    "            print(dim)\n",
    "\n",
    "        #slice large matrix at candidate coordinates to obtain same size sub matrix as small matrix to compare using np.all()\n",
    "        test_mat = big_mat[dim]\n",
    "        print(test_mat)\n",
    "        if (np.all(test_mat==small_mat)):\n",
    "            location_list.append(candidates[i])\n",
    "            \n",
    "    return np.array(location_list)"
   ]
  },
  {
   "cell_type": "code",
   "execution_count": 15,
   "metadata": {},
   "outputs": [
    {
     "name": "stdout",
     "output_type": "stream",
     "text": [
      "[[0 0]\n",
      " [0 2]\n",
      " [1 1]] 3\n",
      "(2, 2)\n",
      "[None, None]\n",
      "[slice(0, 2, None), None]\n",
      "[slice(0, 2, None), slice(0, 2, None)]\n",
      "[[5 2]\n",
      " [4 5]]\n",
      "[slice(0, 2, None), slice(0, 2, None)]\n",
      "[slice(0, 2, None), slice(2, 4, None)]\n",
      "[[5]\n",
      " [6]]\n",
      "[slice(1, 3, None), slice(2, 4, None)]\n",
      "[slice(1, 3, None), slice(1, 3, None)]\n",
      "[[5 6]\n",
      " [8 9]]\n"
     ]
    },
    {
     "name": "stderr",
     "output_type": "stream",
     "text": [
      "C:\\Users\\ETCH\\AppData\\Local\\Temp\\ipykernel_8356\\1241051870.py:29: FutureWarning: Using a non-tuple sequence for multidimensional indexing is deprecated; use `arr[tuple(seq)]` instead of `arr[seq]`. In the future this will be interpreted as an array index, `arr[np.array(seq)]`, which will result either in an error or a different result.\n",
      "  test_mat = big_mat[dim]\n"
     ]
    },
    {
     "data": {
      "text/plain": [
       "array([[1, 1]], dtype=int64)"
      ]
     },
     "execution_count": 15,
     "metadata": {},
     "output_type": "execute_result"
    }
   ],
   "source": [
    "big_mat = np.array([[5,2,5], [4,5,6], [7,8,9]])\n",
    "small_mat = np.array([[5,6], [8,9]])\n",
    "find_submatrix(big_mat, small_mat)"
   ]
  }
 ],
 "metadata": {
  "interpreter": {
   "hash": "9a92ebb1a32b68af07ba4ae21d89671d5ef172113d2414e62053b015791ee503"
  },
  "kernelspec": {
   "display_name": "Python 3.9.1 64-bit",
   "language": "python",
   "name": "python3"
  },
  "language_info": {
   "codemirror_mode": {
    "name": "ipython",
    "version": 3
   },
   "file_extension": ".py",
   "mimetype": "text/x-python",
   "name": "python",
   "nbconvert_exporter": "python",
   "pygments_lexer": "ipython3",
   "version": "3.9.1"
  },
  "orig_nbformat": 4
 },
 "nbformat": 4,
 "nbformat_minor": 2
}
