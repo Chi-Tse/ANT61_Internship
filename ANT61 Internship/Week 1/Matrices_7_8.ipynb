{
 "cells": [
  {
   "cell_type": "code",
   "execution_count": 90,
   "metadata": {},
   "outputs": [],
   "source": [
    "import numpy as np\n",
    "import matplotlib.pyplot as plt\n",
    "import matplotlib.cm as cm\n",
    "\n",
    "def plot_mat(point: tuple, height: int, width: int):\n",
    "    #print(height, width)\n",
    "    mat = np.zeros((height, width))\n",
    "\n",
    "    x1 = point[0][0]\n",
    "    y1 = point[0][1]\n",
    "    x2 = point[1][0]\n",
    "    y2 = point[1][1] \n",
    "    dx = x2-x1\n",
    "    dy = y2-y1 \n",
    "    print(dy,dx)  \n",
    "    #print(dy/dx)\n",
    "    #mat[point[0],point[1]] = 1\n",
    "\n",
    "    if dy < 0:\n",
    "        step = -1\n",
    "    else:\n",
    "        step = 1\n",
    "\n",
    "    if dx == 0:\n",
    "        for y in range(y1,y2+step,step):\n",
    "            mat[int(y)][int(x1)] = 1\n",
    "    elif abs(dy/dx) <= 1:\n",
    "        for x in range(x1,x2+step,step):\n",
    "            y = y1 + (x-x1)*dy/dx\n",
    "            mat[int(y)][int(x)] = 1\n",
    "    elif abs(dy/dx) > 1:\n",
    "        for y in range(y1,y2+step,step):\n",
    "            x = x1 + (y-y1)*dx/dy\n",
    "            mat[int(y)][int(x)] = 1\n",
    "\n",
    "    print(np.flipud(mat))\n",
    "\n",
    "    # Bresenham's line algorithm attempt\n",
    "    # D = 2*dy - dx\n",
    "    # y = y1\n",
    "    # for x in range(x1,x2):\n",
    "    #     if D > 0:\n",
    "    #         y = y + 1\n",
    "    #         D = D - 2*dx\n",
    "    #     D = D + 2*dy\n",
    "    #     mat[int(y)][int(x)] = 1\n",
    "        \n",
    "    fig = plt.figure()\n",
    "    ax1 = fig.add_subplot(121)\n",
    "    #Antialias\n",
    "    ax1.imshow(mat, interpolation='bilinear', cmap=cm.Greys_r)\n",
    "    ax1.set_ylim(ax1.get_ylim()[::-1])\n",
    "\n",
    "    ax2 = fig.add_subplot(122)\n",
    "    ax2.imshow(mat, interpolation='nearest', cmap=cm.Greys_r)\n",
    "    ax2.set_ylim(ax2.get_ylim()[::-1])\n",
    "\n",
    "    plt.show()\n",
    " "
   ]
  },
  {
   "cell_type": "code",
   "execution_count": 91,
   "metadata": {},
   "outputs": [
    {
     "name": "stdout",
     "output_type": "stream",
     "text": [
      "9 0\n",
      "[[1. 0. 0. 0. 0. 0. 0. 0. 0. 0. 0. 0. 0. 0. 0.]\n",
      " [1. 0. 0. 0. 0. 0. 0. 0. 0. 0. 0. 0. 0. 0. 0.]\n",
      " [1. 0. 0. 0. 0. 0. 0. 0. 0. 0. 0. 0. 0. 0. 0.]\n",
      " [1. 0. 0. 0. 0. 0. 0. 0. 0. 0. 0. 0. 0. 0. 0.]\n",
      " [1. 0. 0. 0. 0. 0. 0. 0. 0. 0. 0. 0. 0. 0. 0.]\n",
      " [1. 0. 0. 0. 0. 0. 0. 0. 0. 0. 0. 0. 0. 0. 0.]\n",
      " [1. 0. 0. 0. 0. 0. 0. 0. 0. 0. 0. 0. 0. 0. 0.]\n",
      " [1. 0. 0. 0. 0. 0. 0. 0. 0. 0. 0. 0. 0. 0. 0.]\n",
      " [1. 0. 0. 0. 0. 0. 0. 0. 0. 0. 0. 0. 0. 0. 0.]\n",
      " [1. 0. 0. 0. 0. 0. 0. 0. 0. 0. 0. 0. 0. 0. 0.]]\n"
     ]
    },
    {
     "data": {
      "image/png": "[encoded data removed]",
      "text/plain": [
       "<Figure size 432x288 with 2 Axes>"
      ]
     },
     "metadata": {
      "needs_background": "light"
     },
     "output_type": "display_data"
    }
   ],
   "source": [
    "point = ([0, 0],[0, 9])\n",
    "plot_mat(point, 10, 15)"
   ]
  }
 ],
 "metadata": {
  "interpreter": {
   "hash": "9a92ebb1a32b68af07ba4ae21d89671d5ef172113d2414e62053b015791ee503"
  },
  "kernelspec": {
   "display_name": "Python 3.9.1 64-bit",
   "language": "python",
   "name": "python3"
  },
  "language_info": {
   "codemirror_mode": {
    "name": "ipython",
    "version": 3
   },
   "file_extension": ".py",
   "mimetype": "text/x-python",
   "name": "python",
   "nbconvert_exporter": "python",
   "pygments_lexer": "ipython3",
   "version": "3.9.1"
  },
  "orig_nbformat": 4
 },
 "nbformat": 4,
 "nbformat_minor": 2
}
